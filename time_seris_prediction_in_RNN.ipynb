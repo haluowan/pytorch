{
  "nbformat": 4,
  "nbformat_minor": 0,
  "metadata": {
    "colab": {
      "name": "time seris prediction in RNN.ipynb",
      "version": "0.3.2",
      "provenance": [],
      "private_outputs": true,
      "collapsed_sections": [],
      "include_colab_link": true
    },
    "kernelspec": {
      "name": "python3",
      "display_name": "Python 3"
    }
  },
  "cells": [
    {
      "cell_type": "markdown",
      "metadata": {
        "id": "view-in-github",
        "colab_type": "text"
      },
      "source": [
        "<a href=\"https://colab.research.google.com/github/haluowan/pytorch/blob/master/time_seris_prediction_in_RNN.ipynb\" target=\"_parent\"><img src=\"https://colab.research.google.com/assets/colab-badge.svg\" alt=\"Open In Colab\"/></a>"
      ]
    },
    {
      "cell_type": "code",
      "metadata": {
        "id": "uOCyLKGZWzqU",
        "colab_type": "code",
        "colab": {}
      },
      "source": [
        "import numpy as np\n",
        "import torch\n",
        "import torch.nn as nn\n",
        "import torch.optim as optim\n",
        "import matplotlib.pyplot as plt\n",
        "% matplotlib inline"
      ],
      "execution_count": 0,
      "outputs": []
    },
    {
      "cell_type": "code",
      "metadata": {
        "id": "aI3H4g_RYt9k",
        "colab_type": "code",
        "colab": {}
      },
      "source": [
        "# hyper parameters\n",
        "num_time_steps = 50\n",
        "input_size = 1\n",
        "hidden_size = 16\n",
        "output_size = 1\n",
        "lr=0.01\n"
      ],
      "execution_count": 0,
      "outputs": []
    },
    {
      "cell_type": "code",
      "metadata": {
        "id": "3dz_xrPko6RV",
        "colab_type": "code",
        "colab": {}
      },
      "source": [
        "class Net(nn.Module):\n",
        "    def __init__(self):\n",
        "        super(Net,self).__init__()\n",
        "        \n",
        "        self.rnn = nn.RNN(input_size = input_size,\n",
        "                         hidden_size = hidden_size,\n",
        "                         num_layers = 1,\n",
        "                         batch_first = True)\n",
        "        for p in self.rnn.parameters():\n",
        "            nn.init.normal_(p,mean=0.0,std=0.001)\n",
        "            \n",
        "        self.linear = nn.Linear(hidden_size,output_size)\n",
        "        \n",
        "    def forward(self,x,hidden_prev):\n",
        "        out,hidden_prev = self.rnn(x,hidden_prev)\n",
        "        # [b,seq,h]\n",
        "        out = out.view(-1,hidden_size)\n",
        "        out = self.linear(out)\n",
        "        out = out.unsqueeze(dim=0)\n",
        "        return out,hidden_prev\n",
        "    \n",
        "        "
      ],
      "execution_count": 0,
      "outputs": []
    },
    {
      "cell_type": "code",
      "metadata": {
        "id": "G414Ja5fsduc",
        "colab_type": "code",
        "colab": {}
      },
      "source": [
        "model = Net()\n",
        "criterion = nn.MSELoss()\n",
        "optimizer = optim.Adam(model.parameters(),lr=lr)"
      ],
      "execution_count": 0,
      "outputs": []
    },
    {
      "cell_type": "code",
      "metadata": {
        "id": "K4mj8LZktKqW",
        "colab_type": "code",
        "colab": {}
      },
      "source": [
        "hidden_prev = torch.zeros(1,1,hidden_size)"
      ],
      "execution_count": 0,
      "outputs": []
    },
    {
      "cell_type": "code",
      "metadata": {
        "id": "z72wlwbutUz1",
        "colab_type": "code",
        "colab": {}
      },
      "source": [
        "for step in range(3000):\n",
        "    start = np.random.randint(3,size=1)[0]\n",
        "    time_steps = np.linspace(start,start+10,num_time_steps)\n",
        "    data = np.sin(time_steps)\n",
        "    data = data.reshape(num_time_steps,1)\n",
        "    x = torch.tensor(data[:-1]).float().view(1,num_time_steps-1,1)\n",
        "    y = torch.tensor(data[1:]).float().view(1,num_time_steps-1,1)\n",
        "    \n",
        "    output,hidden_prev = model(x,hidden_prev)\n",
        "    hidden_prev = hidden_prev.detach()\n",
        "    \n",
        "    loss = criterion(output,y)\n",
        "    model.zero_grad()\n",
        "    loss.backward()\n",
        "    optimizer.step()\n",
        "    \n",
        "    if step % 100 == 0:\n",
        "        print('Iteration:{} | Loss:{}'.format(step,loss.item()))\n",
        "        \n"
      ],
      "execution_count": 0,
      "outputs": []
    },
    {
      "cell_type": "code",
      "metadata": {
        "id": "oUPY8PUuv5VI",
        "colab_type": "code",
        "colab": {}
      },
      "source": [
        "start = np.random.randint(3,size=1)[0]\n",
        "time_steps = np.linspace(start,start + 10,num_time_steps)\n",
        "data = np.sin(time_steps)\n",
        "data = data.reshape(num_time_steps,1)\n",
        "x = torch.tensor(data[:-1]).float().view(1,num_time_steps - 1,1)\n",
        "y = torch.tensor(data[1:]).float().view(1,num_time_steps -1,1)\n"
      ],
      "execution_count": 0,
      "outputs": []
    },
    {
      "cell_type": "code",
      "metadata": {
        "id": "Yv3AiHvLxAjg",
        "colab_type": "code",
        "colab": {}
      },
      "source": [
        "predictions = []\n",
        "input = x[:,0,:]\n",
        "for _ in range(x.shape[1]):\n",
        "    input = input.view(1,1,1)\n",
        "    (pred,hidden_prev) = model(input,hidden_prev)\n",
        "    input = pred\n",
        "    predictions.append(pred.detach().numpy().ravel()[0])\n",
        "    \n",
        "x = x.data.numpy().ravel()\n",
        "y = y.data.numpy()\n",
        "\n",
        "plt.scatter(time_steps[:-1],x.ravel(),s=90)\n",
        "plt.plot(time_steps[:-1],x.ravel())\n",
        "\n",
        "plt.scatter(time_steps[1:],predictions)\n",
        "plt.show()"
      ],
      "execution_count": 0,
      "outputs": []
    }
  ]
}