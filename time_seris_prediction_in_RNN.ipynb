{
  "nbformat": 4,
  "nbformat_minor": 0,
  "metadata": {
    "colab": {
      "name": "time seris prediction in RNN.ipynb",
      "version": "0.3.2",
      "provenance": [],
      "collapsed_sections": [],
      "include_colab_link": true
    },
    "kernelspec": {
      "name": "python3",
      "display_name": "Python 3"
    }
  },
  "cells": [
    {
      "cell_type": "markdown",
      "metadata": {
        "id": "view-in-github",
        "colab_type": "text"
      },
      "source": [
        "<a href=\"https://colab.research.google.com/github/haluowan/pytorch/blob/master/time_seris_prediction_in_RNN.ipynb\" target=\"_parent\"><img src=\"https://colab.research.google.com/assets/colab-badge.svg\" alt=\"Open In Colab\"/></a>"
      ]
    },
    {
      "cell_type": "code",
      "metadata": {
        "id": "uOCyLKGZWzqU",
        "colab_type": "code",
        "colab": {}
      },
      "source": [
        "import numpy as np\n",
        "import torch\n",
        "import torch.nn as nn\n",
        "import torch.optim as optim\n",
        "import matplotlib.pyplot as plt\n",
        "% matplotlib inline"
      ],
      "execution_count": 0,
      "outputs": []
    },
    {
      "cell_type": "code",
      "metadata": {
        "id": "aI3H4g_RYt9k",
        "colab_type": "code",
        "colab": {}
      },
      "source": [
        "# hyper parameters\n",
        "num_time_steps = 50\n",
        "input_size = 1\n",
        "hidden_size = 16\n",
        "output_size = 1\n",
        "lr=0.01\n"
      ],
      "execution_count": 0,
      "outputs": []
    },
    {
      "cell_type": "code",
      "metadata": {
        "id": "3dz_xrPko6RV",
        "colab_type": "code",
        "colab": {}
      },
      "source": [
        "class Net(nn.Module):\n",
        "    def __init__(self):\n",
        "        super(Net,self).__init__()\n",
        "        \n",
        "        self.rnn = nn.RNN(input_size = input_size,\n",
        "                         hidden_size = hidden_size,\n",
        "                         num_layers = 1,\n",
        "                         batch_first = True)\n",
        "        for p in self.rnn.parameters():\n",
        "            nn.init.normal_(p,mean=0.0,std=0.001)\n",
        "            \n",
        "        self.linear = nn.Linear(hidden_size,output_size)\n",
        "        \n",
        "    def forward(self,x,hidden_prev):\n",
        "        out,hidden_prev = self.rnn(x,hidden_prev)\n",
        "        # [b,seq,h]\n",
        "        out = out.view(-1,hidden_size)\n",
        "        out = self.linear(out)\n",
        "        out = out.unsqueeze(dim=0)\n",
        "        return out,hidden_prev\n",
        "    \n",
        "        "
      ],
      "execution_count": 0,
      "outputs": []
    },
    {
      "cell_type": "code",
      "metadata": {
        "id": "G414Ja5fsduc",
        "colab_type": "code",
        "colab": {}
      },
      "source": [
        "model = Net()\n",
        "criterion = nn.MSELoss()\n",
        "optimizer = optim.Adam(model.parameters(),lr=lr)"
      ],
      "execution_count": 0,
      "outputs": []
    },
    {
      "cell_type": "code",
      "metadata": {
        "id": "K4mj8LZktKqW",
        "colab_type": "code",
        "colab": {}
      },
      "source": [
        "hidden_prev = torch.zeros(1,1,hidden_size)"
      ],
      "execution_count": 0,
      "outputs": []
    },
    {
      "cell_type": "code",
      "metadata": {
        "id": "z72wlwbutUz1",
        "colab_type": "code",
        "colab": {
          "base_uri": "https://localhost:8080/",
          "height": 548
        },
        "outputId": "3ea42d9c-2ae7-4a91-c611-c41dcaaa4529"
      },
      "source": [
        "for step in range(3000):\n",
        "    start = np.random.randint(3,size=1)[0]\n",
        "    time_steps = np.linspace(start,start+10,num_time_steps)\n",
        "    data = np.sin(time_steps)\n",
        "    data = data.reshape(num_time_steps,1)\n",
        "    x = torch.tensor(data[:-1]).float().view(1,num_time_steps-1,1)\n",
        "    y = torch.tensor(data[1:]).float().view(1,num_time_steps-1,1)\n",
        "    \n",
        "    output,hidden_prev = model(x,hidden_prev)\n",
        "    hidden_prev = hidden_prev.detach()\n",
        "    \n",
        "    loss = criterion(output,y)\n",
        "    model.zero_grad()\n",
        "    loss.backward()\n",
        "    optimizer.step()\n",
        "    \n",
        "    if step % 100 == 0:\n",
        "        print('Iteration:{} | Loss:{}'.format(step,loss.item()))\n",
        "        \n"
      ],
      "execution_count": 18,
      "outputs": [
        {
          "output_type": "stream",
          "text": [
            "Iteration:0 | Loss:0.4818926751613617\n",
            "Iteration:100 | Loss:0.004090819973498583\n",
            "Iteration:200 | Loss:0.0023044943809509277\n",
            "Iteration:300 | Loss:0.0028797078412026167\n",
            "Iteration:400 | Loss:0.008131449110805988\n",
            "Iteration:500 | Loss:0.005484625231474638\n",
            "Iteration:600 | Loss:0.00104797282256186\n",
            "Iteration:700 | Loss:0.0008326804381795228\n",
            "Iteration:800 | Loss:0.001094542327336967\n",
            "Iteration:900 | Loss:0.0005812951130792499\n",
            "Iteration:1000 | Loss:0.0014203262981027365\n",
            "Iteration:1100 | Loss:0.0017796100582927465\n",
            "Iteration:1200 | Loss:0.0004121323872823268\n",
            "Iteration:1300 | Loss:0.00011309896945022047\n",
            "Iteration:1400 | Loss:0.0001921374787343666\n",
            "Iteration:1500 | Loss:0.0007306758780032396\n",
            "Iteration:1600 | Loss:0.00015718424401711673\n",
            "Iteration:1700 | Loss:0.0004020417982246727\n",
            "Iteration:1800 | Loss:0.0008595791878178716\n",
            "Iteration:1900 | Loss:0.00010397488222224638\n",
            "Iteration:2000 | Loss:9.801427950151265e-05\n",
            "Iteration:2100 | Loss:0.0004990297020412982\n",
            "Iteration:2200 | Loss:0.0005457969382405281\n",
            "Iteration:2300 | Loss:0.0005502885323949158\n",
            "Iteration:2400 | Loss:0.0001333438412984833\n",
            "Iteration:2500 | Loss:0.00016485829837620258\n",
            "Iteration:2600 | Loss:0.0004603022534865886\n",
            "Iteration:2700 | Loss:0.00024778078659437597\n",
            "Iteration:2800 | Loss:0.0005149370990693569\n",
            "Iteration:2900 | Loss:0.0007919322233647108\n"
          ],
          "name": "stdout"
        }
      ]
    },
    {
      "cell_type": "code",
      "metadata": {
        "id": "oUPY8PUuv5VI",
        "colab_type": "code",
        "colab": {}
      },
      "source": [
        "start = np.random.randint(3,size=1)[0]\n",
        "time_steps = np.linspace(start,start + 10,num_time_steps)\n",
        "data = np.sin(time_steps)\n",
        "data = data.reshape(num_time_steps,1)\n",
        "x = torch.tensor(data[:-1]).float().view(1,num_time_steps - 1,1)\n",
        "y = torch.tensor(data[1:]).float().view(1,num_time_steps -1,1)\n"
      ],
      "execution_count": 0,
      "outputs": []
    },
    {
      "cell_type": "code",
      "metadata": {
        "id": "Yv3AiHvLxAjg",
        "colab_type": "code",
        "colab": {
          "base_uri": "https://localhost:8080/",
          "height": 269
        },
        "outputId": "afa493d4-b7fc-4775-f15c-97ab3b55b400"
      },
      "source": [
        "predictions = []\n",
        "input = x[:,0,:]\n",
        "for _ in range(x.shape[1]):\n",
        "    input = input.view(1,1,1)\n",
        "    (pred,hidden_prev) = model(input,hidden_prev)\n",
        "    input = pred\n",
        "    predictions.append(pred.detach().numpy().ravel()[0])\n",
        "    \n",
        "x = x.data.numpy().ravel()\n",
        "y = y.data.numpy()\n",
        "\n",
        "plt.scatter(time_steps[:-1],x.ravel(),s=90)\n",
        "plt.plot(time_steps[:-1],x.ravel())\n",
        "\n",
        "plt.scatter(time_steps[1:],predictions)\n",
        "plt.show()"
      ],
      "execution_count": 20,
      "outputs": [
        {
          "output_type": "display_data",
          "data": {
            "image/png": "[encoded data removed]",
            "text/plain": [
              "<Figure size 432x288 with 1 Axes>"
            ]
          },
          "metadata": {
            "tags": []
          }
        }
      ]
    }
  ]
}