{
  "nbformat": 4,
  "nbformat_minor": 0,
  "metadata": {
    "colab": {
      "name": "AE&VAE.ipynb",
      "version": "0.3.2",
      "provenance": [],
      "collapsed_sections": [],
      "include_colab_link": true
    },
    "kernelspec": {
      "name": "python3",
      "display_name": "Python 3"
    },
    "accelerator": "GPU"
  },
  "cells": [
    {
      "cell_type": "markdown",
      "metadata": {
        "id": "view-in-github",
        "colab_type": "text"
      },
      "source": [
        "<a href=\"https://colab.research.google.com/github/haluowan/pytorch/blob/master/AE%26VAE.ipynb\" target=\"_parent\"><img src=\"https://colab.research.google.com/assets/colab-badge.svg\" alt=\"Open In Colab\"/></a>"
      ]
    },
    {
      "cell_type": "code",
      "metadata": {
        "id": "Rm5AiXO2gTjX",
        "colab_type": "code",
        "colab": {}
      },
      "source": [
        "import torch\n",
        "import torch.nn as nn\n",
        "import torch.optim as optim\n",
        "from torch.utils.data import DataLoader\n",
        "from torchvision import transforms,datasets\n"
      ],
      "execution_count": 0,
      "outputs": []
    },
    {
      "cell_type": "code",
      "metadata": {
        "id": "dvh5um7g286F",
        "colab_type": "code",
        "colab": {}
      },
      "source": [
        "class AE(nn.Module):\n",
        "    def __init__(self):\n",
        "        super(AE,self).__init__()\n",
        "        \n",
        "        self.encoder = nn.Sequential(nn.Linear(784,256),\n",
        "                                       nn.ReLU(),\n",
        "                                       nn.Linear(256,64),\n",
        "                                       nn.ReLU(),\n",
        "                                       nn.linear(64,20),\n",
        "                                       nn.ReLU())\n",
        "        \n",
        "        self.decoder = nn.Sequential(nn.Linear(20,64),\n",
        "                                    nn.ReLU(),\n",
        "                                    nn.linear(64,256),\n",
        "                                    nn.ReLU(),\n",
        "                                    nn.Linear(256,784),\n",
        "                                    nn.Sigmoid())\n",
        "    def forward(self,x):\n",
        "        batchsz = x.size(0)\n",
        "        # flatten\n",
        "        x = x.view(batchsz,784)\n",
        "        # encoder\n",
        "        x = self.encoder(x)\n",
        "        # decoder \n",
        "        x = self.decoder(x)\n",
        "        # reshape\n",
        "        x = x.view(batchsz,1,28,28)\n",
        "        return x,None\n",
        "    "
      ],
      "execution_count": 0,
      "outputs": []
    },
    {
      "cell_type": "code",
      "metadata": {
        "id": "7kz8QYUb6bOG",
        "colab_type": "code",
        "colab": {}
      },
      "source": [
        "class VAE(nn.Module):\n",
        "    def __init__(self):\n",
        "        super(VAE,self).__init__()\n",
        "        \n",
        "        # [b,784] => [b,20]\n",
        "        # u:[b,10]\n",
        "        # sigma:[b,10]\n",
        "        self.encoder = nn.Sequential(nn.Linear(784,256),\n",
        "                                       nn.ReLU(),\n",
        "                                       nn.Linear(256,64),\n",
        "                                       nn.ReLU(),\n",
        "                                       nn.Linear(64,20),\n",
        "                                       nn.ReLU())\n",
        "        \n",
        "        # [b,20] => [b,784]\n",
        "        self.decoder = nn.Sequential(\n",
        "                                    nn.Linear(10,64),\n",
        "                                    nn.ReLU(),\n",
        "                                    nn.Linear(64,256),\n",
        "                                    nn.ReLU(),\n",
        "                                    nn.Linear(256,784),\n",
        "                                    nn.Sigmoid())\n",
        "        \n",
        "        self.criteon = nn.MSELoss()\n",
        "        \n",
        "    def forward(self,x):\n",
        "        \n",
        "        batchsz = x.size(0)\n",
        "        # flatten\n",
        "        x = x.view(batchsz,784)\n",
        "        # encoder\n",
        "        # [b,20] including mean and sigma\n",
        "        h_ = self.encoder(x)\n",
        "        # [b,20] => [b,10] and [b,10]\n",
        "        mu,sigma = h_.chunk(2,dim=1)\n",
        "        \n",
        "        # reparametrize trick,epison~N(0,1)\n",
        "        h = mu + sigma * torch.randn_like(sigma)\n",
        "        \n",
        "        # decoder\n",
        "        x_hat = self.decoder(h)\n",
        "        \n",
        "        # reshape\n",
        "        x_hat = x_hat.view(batchsz,1,28,28)\n",
        "        \n",
        "        kld = 0.5 * torch.sum(torch.pow(mu,2) + torch.pow(sigma,2) - \\\n",
        "                              torch.log(1e-8 + torch.pow(sigma,2)) - 1) / (batchsz*28*28)\n",
        "        \n",
        "        return x_hat,kld\n",
        "\n",
        "    \n",
        "        "
      ],
      "execution_count": 0,
      "outputs": []
    },
    {
      "cell_type": "code",
      "metadata": {
        "id": "JKpUirznC1h1",
        "colab_type": "code",
        "colab": {}
      },
      "source": [
        "def main():\n",
        "    train_data = datasets.MNIST(root = 'mnist',\n",
        "                                train = True,\n",
        "                                transform = transforms.Compose([transforms.ToTensor()]),\n",
        "                                download = True,\n",
        "                                )\n",
        "    \n",
        "    test_data = datasets.MNIST(root = 'mnist',\n",
        "                                train = False,\n",
        "                                transform = transforms.Compose([transforms.ToTensor()]),\n",
        "                                download = True,\n",
        "                                )\n",
        "    \n",
        "        \n",
        "    train_loader = DataLoader(train_data,batch_size=32,shuffle=True)\n",
        "    test_loader = DataLoader(test_data,batch_size=32,shuffle=True)\n",
        "    \n",
        "    x,_ = iter(train_loader).next()\n",
        "    print('x:',x.shape)\n",
        "    \n",
        "    device = torch.device('cuda' if torch.cuda.is_available() else 'cpu')\n",
        "    \n",
        "    model = VAE().to(device)\n",
        "    criteon = nn.MSELoss()\n",
        "    optimizer = optim.Adam(model.parameters(),lr=1e-3)\n",
        "    print('model:',model)\n",
        "    \n",
        "    for epoch in range(1000):\n",
        "        for step,(x,_) in enumerate(train_loader):\n",
        "            x = x.to(device)\n",
        "            \n",
        "            x_hat,kld = model(x)\n",
        "            \n",
        "            loss = criteon(x_hat,x)\n",
        "            \n",
        "            if kld is not None:\n",
        "                elbo = - loss - 1.0*kld\n",
        "                loss = -elbo\n",
        "                \n",
        "            optimizer.zero_grad()\n",
        "            loss.backward()\n",
        "            optimizer.step()\n",
        "            \n",
        "        print('Epoch:',epoch,'Loss:',loss.item(),'Kld:',kld.item())\n",
        "        \n",
        "                    "
      ],
      "execution_count": 0,
      "outputs": []
    },
    {
      "cell_type": "code",
      "metadata": {
        "id": "gZCcuW-MHltg",
        "colab_type": "code",
        "colab": {}
      },
      "source": [
        "main()"
      ],
      "execution_count": 0,
      "outputs": []
    },
    {
      "cell_type": "code",
      "metadata": {
        "id": "gO-dJhewVc9x",
        "colab_type": "code",
        "colab": {}
      },
      "source": [
        ""
      ],
      "execution_count": 0,
      "outputs": []
    }
  ]
}